{
 "cells": [
  {
   "cell_type": "markdown",
   "metadata": {},
   "source": [
    "### Assignment\n",
    "\n",
    "1. Accept input from user for data period and investment amount \n",
    "2. Use trading view/Yahoo finance API to fetch required daily candle data\n",
    "3. Once data is fetched, workout amount to be invested in each stock by multiplying stock weightage with investment amount. \n",
    "4. Calculate number of shares that can be bought with this amount by dividing it with daily closing price. You will get number of shares that can be bought for that stock for that particular day.\n",
    "5. Likewise need to be done for all stocks in input sheet for all dates of user input\n"
   ]
  },
  {
   "cell_type": "code",
   "execution_count": 8,
   "metadata": {},
   "outputs": [],
   "source": [
    "import pandas as pd\n",
    "import yfinance as yf"
   ]
  },
  {
   "cell_type": "markdown",
   "metadata": {},
   "source": [
    "### Step 1: Load stocks data\n",
    "\n",
    "Loading csv data into pandas Dataframe and cleaning the Ticker values by appending `.NS` for Indian Stock market query"
   ]
  },
  {
   "cell_type": "code",
   "execution_count": 9,
   "metadata": {},
   "outputs": [],
   "source": [
    "\n",
    "stocks = pd.read_csv('Stocks.csv').iloc[:, :2]\n",
    "stocks.columns = ['Ticker', 'Weightage']\n",
    "\n",
    "# Append `.NS` to tickers for Indian stock market\n",
    "stocks['Ticker'] = stocks['Ticker'] + '.NS'"
   ]
  },
  {
   "cell_type": "markdown",
   "metadata": {},
   "source": [
    "### Step 2: Get user input\n",
    "\n",
    "Taking 3 user input \n",
    " - `start_date`        : The starting of period the user start investing\n",
    " - `end_date`          : The ending of period the user last invests\n",
    " - `investment_amount` : The amount of money user is going to invest each day"
   ]
  },
  {
   "cell_type": "code",
   "execution_count": 10,
   "metadata": {},
   "outputs": [],
   "source": [
    "# start_date = input(\"Enter start date (YYYY-MM-DD): \")\n",
    "# end_date = input(\"Enter end date (YYYY-MM-DD): \")\n",
    "# investment_amount = float(input(\"Enter total investment amount: \"))\n",
    "\n",
    "# data for teseting\n",
    "\n",
    "start_date = \"2023-04-24\"\n",
    "end_date = \"2023-04-26\"\n",
    "investment_amount = 10000000.01 "
   ]
  },
  {
   "cell_type": "markdown",
   "metadata": {},
   "source": [
    "#### Step 2.1 : Utility Function to generate list of dates for columns\n",
    "\n",
    "date format : `YYYY-MM-DD`\n",
    "\n",
    "This format also match the format of `yfinance` api\n"
   ]
  },
  {
   "cell_type": "code",
   "execution_count": 11,
   "metadata": {},
   "outputs": [
    {
     "name": "stdout",
     "output_type": "stream",
     "text": [
      "['2023-04-24', '2023-04-25', '2023-04-26']\n"
     ]
    }
   ],
   "source": [
    "from datetime import datetime, timedelta\n",
    "\n",
    "def generate_date_list(start_date, end_date):\n",
    "    \"\"\"\n",
    "    Generate a list of dates between two given dates.\n",
    "    \n",
    "    Args:\n",
    "        start_date (str): The start date in \"YYYY-MM-DD\" format.\n",
    "        end_date (str): The end date in \"YYYY-MM-DD\" format.\n",
    "    \n",
    "    Returns:\n",
    "        list: A list of dates in \"YYYY-MM-DD\" format.\n",
    "    \"\"\"\n",
    "    # Convert strings to datetime objects\n",
    "    start = datetime.strptime(start_date, \"%Y-%m-%d\")\n",
    "    end = datetime.strptime(end_date, \"%Y-%m-%d\")\n",
    "    \n",
    "    # Generate list of dates\n",
    "    date_list = []\n",
    "    current_date = start\n",
    "    while current_date <= end:\n",
    "        date_list.append(current_date.strftime(\"%Y-%m-%d\"))\n",
    "        current_date += timedelta(days=1)\n",
    "    \n",
    "    return date_list\n",
    "\n",
    "dates = generate_date_list(start_date, end_date)\n",
    "print(dates)\n"
   ]
  },
  {
   "cell_type": "markdown",
   "metadata": {},
   "source": [
    "### Step 3: Fetch stock data\n",
    "\n",
    "Fetching stock data from yahoo finance api and calcuting the shares based on weightage and closing_price"
   ]
  },
  {
   "cell_type": "code",
   "execution_count": 12,
   "metadata": {},
   "outputs": [
    {
     "name": "stderr",
     "output_type": "stream",
     "text": [
      "[*********************100%***********************]  1 of 1 completed"
     ]
    },
    {
     "name": "stderr",
     "output_type": "stream",
     "text": [
      "\n",
      "[*********************100%***********************]  1 of 1 completed\n",
      "[*********************100%***********************]  1 of 1 completed\n",
      "[*********************100%***********************]  1 of 1 completed\n",
      "[*********************100%***********************]  1 of 1 completed\n",
      "[*********************100%***********************]  1 of 1 completed\n",
      "[*********************100%***********************]  1 of 1 completed\n",
      "[*********************100%***********************]  1 of 1 completed\n",
      "[*********************100%***********************]  1 of 1 completed\n",
      "[*********************100%***********************]  1 of 1 completed\n",
      "[*********************100%***********************]  1 of 1 completed\n",
      "[*********************100%***********************]  1 of 1 completed\n",
      "[*********************100%***********************]  1 of 1 completed\n",
      "[*********************100%***********************]  1 of 1 completed\n",
      "[*********************100%***********************]  1 of 1 completed\n",
      "[*********************100%***********************]  1 of 1 completed\n",
      "[*********************100%***********************]  1 of 1 completed\n",
      "[*********************100%***********************]  1 of 1 completed\n",
      "[*********************100%***********************]  1 of 1 completed\n",
      "[*********************100%***********************]  1 of 1 completed\n",
      "[*********************100%***********************]  1 of 1 completed\n",
      "[*********************100%***********************]  1 of 1 completed\n",
      "[*********************100%***********************]  1 of 1 completed\n",
      "[*********************100%***********************]  1 of 1 completed\n",
      "[*********************100%***********************]  1 of 1 completed\n",
      "[*********************100%***********************]  1 of 1 completed\n",
      "[*********************100%***********************]  1 of 1 completed\n",
      "[*********************100%***********************]  1 of 1 completed\n",
      "[*********************100%***********************]  1 of 1 completed\n",
      "[*********************100%***********************]  1 of 1 completed\n",
      "[*********************100%***********************]  1 of 1 completed\n",
      "[*********************100%***********************]  1 of 1 completed\n",
      "[*********************100%***********************]  1 of 1 completed\n",
      "[*********************100%***********************]  1 of 1 completed\n",
      "[*********************100%***********************]  1 of 1 completed\n",
      "[*********************100%***********************]  1 of 1 completed\n",
      "[*********************100%***********************]  1 of 1 completed\n",
      "[*********************100%***********************]  1 of 1 completed\n",
      "[*********************100%***********************]  1 of 1 completed\n",
      "[*********************100%***********************]  1 of 1 completed\n",
      "[*********************100%***********************]  1 of 1 completed\n",
      "[*********************100%***********************]  1 of 1 completed\n",
      "[*********************100%***********************]  1 of 1 completed\n",
      "[*********************100%***********************]  1 of 1 completed\n",
      "[*********************100%***********************]  1 of 1 completed\n",
      "[*********************100%***********************]  1 of 1 completed\n",
      "[*********************100%***********************]  1 of 1 completed\n"
     ]
    }
   ],
   "source": [
    "# incrementing end_date by 1 day for yfinance exclusive range\n",
    "end_date = datetime.strptime(end_date, \"%Y-%m-%d\")\n",
    "end_date += timedelta(days=1)\n",
    "end_date = end_date.strftime(\"%Y-%m-%d\")\n",
    "\n",
    "results = []\n",
    "# dates = []\n",
    "for index, row in stocks.iterrows():\n",
    "    ticker = row['Ticker']\n",
    "    weightage = row['Weightage']\n",
    "    stock_investment = investment_amount * weightage\n",
    "\n",
    "    try:\n",
    "        # Fetch stock data\n",
    "        data = yf.download(ticker, start=start_date, end=end_date)\n",
    "        _shares = {key:0 for key in dates}\n",
    "\n",
    "        for date, daily_data in data.iterrows():\n",
    "            _date =  date.strftime(\"%Y-%m-%d\")\n",
    "            closing_price = float(daily_data['Close']._values[0])\n",
    "            shares = stock_investment / closing_price\n",
    "            _shares[_date] = shares\n",
    "\n",
    "        results.append({\"Ticker\":ticker, \"Weightage\":weightage,\n",
    "        # \"Amount\":investment_amount, # if you want to show amount also\n",
    "        **_shares})\n",
    "    except Exception as e:\n",
    "        print(f\"Error fetching data for {ticker}: {e}\")"
   ]
  },
  {
   "cell_type": "markdown",
   "metadata": {},
   "source": [
    "### Step 4: Write results to Excel"
   ]
  },
  {
   "cell_type": "code",
   "execution_count": 13,
   "metadata": {},
   "outputs": [
    {
     "name": "stdout",
     "output_type": "stream",
     "text": [
      "2023-04-24\n"
     ]
    }
   ],
   "source": [
    "date = dates[0]\n",
    "print(str(date).split(' ')[0])"
   ]
  },
  {
   "cell_type": "code",
   "execution_count": 14,
   "metadata": {},
   "outputs": [
    {
     "data": {
      "text/html": [
       "<div>\n",
       "<style scoped>\n",
       "    .dataframe tbody tr th:only-of-type {\n",
       "        vertical-align: middle;\n",
       "    }\n",
       "\n",
       "    .dataframe tbody tr th {\n",
       "        vertical-align: top;\n",
       "    }\n",
       "\n",
       "    .dataframe thead th {\n",
       "        text-align: right;\n",
       "    }\n",
       "</style>\n",
       "<table border=\"1\" class=\"dataframe\">\n",
       "  <thead>\n",
       "    <tr style=\"text-align: right;\">\n",
       "      <th></th>\n",
       "      <th>Ticker</th>\n",
       "      <th>Weightage</th>\n",
       "      <th>2023-04-24</th>\n",
       "      <th>2023-04-25</th>\n",
       "      <th>2023-04-26</th>\n",
       "    </tr>\n",
       "  </thead>\n",
       "  <tbody>\n",
       "    <tr>\n",
       "      <th>0</th>\n",
       "      <td>ADANIPORTS.NS</td>\n",
       "      <td>0.0082</td>\n",
       "      <td>122.151053</td>\n",
       "      <td>122.123760</td>\n",
       "      <td>123.363921</td>\n",
       "    </tr>\n",
       "    <tr>\n",
       "      <th>1</th>\n",
       "      <td>APOLLOHOSP.NS</td>\n",
       "      <td>0.0061</td>\n",
       "      <td>13.866631</td>\n",
       "      <td>13.811842</td>\n",
       "      <td>13.830945</td>\n",
       "    </tr>\n",
       "    <tr>\n",
       "      <th>2</th>\n",
       "      <td>ASIANPAINT.NS</td>\n",
       "      <td>0.0195</td>\n",
       "      <td>67.448374</td>\n",
       "      <td>67.287785</td>\n",
       "      <td>67.010309</td>\n",
       "    </tr>\n",
       "    <tr>\n",
       "      <th>3</th>\n",
       "      <td>AXISBANK.NS</td>\n",
       "      <td>0.0257</td>\n",
       "      <td>291.284148</td>\n",
       "      <td>292.594077</td>\n",
       "      <td>289.528523</td>\n",
       "    </tr>\n",
       "    <tr>\n",
       "      <th>4</th>\n",
       "      <td>BAJAJFINSV.NS</td>\n",
       "      <td>0.0120</td>\n",
       "      <td>90.926312</td>\n",
       "      <td>89.166292</td>\n",
       "      <td>89.907848</td>\n",
       "    </tr>\n",
       "  </tbody>\n",
       "</table>\n",
       "</div>"
      ],
      "text/plain": [
       "          Ticker  Weightage  2023-04-24  2023-04-25  2023-04-26\n",
       "0  ADANIPORTS.NS     0.0082  122.151053  122.123760  123.363921\n",
       "1  APOLLOHOSP.NS     0.0061   13.866631   13.811842   13.830945\n",
       "2  ASIANPAINT.NS     0.0195   67.448374   67.287785   67.010309\n",
       "3    AXISBANK.NS     0.0257  291.284148  292.594077  289.528523\n",
       "4  BAJAJFINSV.NS     0.0120   90.926312   89.166292   89.907848"
      ]
     },
     "metadata": {},
     "output_type": "display_data"
    },
    {
     "name": "stdout",
     "output_type": "stream",
     "text": [
      "Results saved to Investment_Results.xlsx\n"
     ]
    }
   ],
   "source": [
    "\n",
    "output_df = pd.DataFrame(results)\n",
    "display(output_df.head())\n",
    "output_df.to_csv('Investment_Results.csv', index=False)\n",
    "\n",
    "print(\"Results saved to Investment_Results.xlsx\")"
   ]
  }
 ],
 "metadata": {
  "kernelspec": {
   "display_name": "Python 3",
   "language": "python",
   "name": "python3"
  },
  "language_info": {
   "codemirror_mode": {
    "name": "ipython",
    "version": 3
   },
   "file_extension": ".py",
   "mimetype": "text/x-python",
   "name": "python",
   "nbconvert_exporter": "python",
   "pygments_lexer": "ipython3",
   "version": "3.13.0"
  }
 },
 "nbformat": 4,
 "nbformat_minor": 2
}
